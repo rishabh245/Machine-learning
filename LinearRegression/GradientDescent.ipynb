{
 "cells": [
  {
   "cell_type": "markdown",
   "metadata": {},
   "source": [
    "# Coding Gradient Descent for one input feature"
   ]
  },
  {
   "cell_type": "code",
   "execution_count": 1,
   "metadata": {
    "collapsed": true
   },
   "outputs": [],
   "source": [
    "import numpy as np"
   ]
  },
  {
   "cell_type": "code",
   "execution_count": 4,
   "metadata": {
    "collapsed": true
   },
   "outputs": [],
   "source": [
    "def step_gradient(points ,learning_rate, m , c):\n",
    "    slope_m=0\n",
    "    slope_c=0\n",
    "    N = len(points)\n",
    "    for i in range(N):\n",
    "        x = points[i,0]\n",
    "        y = points[i,1]\n",
    "        slope_m += (-2/N) * (y-m*x+c) * x\n",
    "        slope_c += (-2/N) * (y-m*x+c)\n",
    "    new_m = m - learning_rate * slope_m\n",
    "    new_c = c - learning_rate * slope_c\n",
    "    return new_m,new_c"
   ]
  },
  {
   "cell_type": "code",
   "execution_count": 13,
   "metadata": {
    "collapsed": true
   },
   "outputs": [],
   "source": [
    "def cost(points,m,c):\n",
    "    N = len(points)\n",
    "    cost = 0\n",
    "    for i in range(N):\n",
    "        x = points[i,0]\n",
    "        y = points[i,1]\n",
    "        cost += (1/N) * (y-(m*x+c))**2\n",
    "    return cost"
   ]
  },
  {
   "cell_type": "code",
   "execution_count": 20,
   "metadata": {
    "collapsed": true
   },
   "outputs": [],
   "source": [
    "def gradient_descent(points , learning_rate, num_iteration):\n",
    "    m = 0\n",
    "    c = 0\n",
    "    for i in range(num_iteration):\n",
    "        m,c = step_gradient(points,learning_rate,m,c)\n",
    "        print(\"Iteration number \" , i , \" Cost : \",cost(points,m,c) )\n",
    "    return m,c"
   ]
  },
  {
   "cell_type": "code",
   "execution_count": 21,
   "metadata": {
    "collapsed": true
   },
   "outputs": [],
   "source": [
    "def run():\n",
    "    data = np.loadtxt(\"data.csv\" , delimiter=',')\n",
    "    #data has only one input feature and one output value\n",
    "    print(\"Data shape : \" , data.shape)\n",
    "    learning_rate = 0.0001\n",
    "    num_iteration = 100\n",
    "    m,c = gradient_descent(data,learning_rate,num_iteration)\n",
    "    print(\"M,C \" , m,c )"
   ]
  },
  {
   "cell_type": "code",
   "execution_count": 22,
   "metadata": {},
   "outputs": [
    {
     "name": "stdout",
     "output_type": "stream",
     "text": [
      "Data shape :  (100, 2)\n",
      "Iteration number  0  Cost :  1484.58655741\n",
      "Iteration number  1  Cost :  457.325909955\n",
      "Iteration number  2  Cost :  198.979033495\n",
      "Iteration number  3  Cost :  134.139695593\n",
      "Iteration number  4  Cost :  117.933289315\n",
      "Iteration number  5  Cost :  113.916293841\n",
      "Iteration number  6  Cost :  112.937733104\n",
      "Iteration number  7  Cost :  112.708095251\n",
      "Iteration number  8  Cost :  112.658750412\n",
      "Iteration number  9  Cost :  112.650595201\n",
      "Iteration number  10  Cost :  112.650684591\n",
      "Iteration number  11  Cost :  112.651777511\n",
      "Iteration number  12  Cost :  112.652583008\n",
      "Iteration number  13  Cost :  112.653044288\n",
      "Iteration number  14  Cost :  112.65328212\n",
      "Iteration number  15  Cost :  112.653394886\n",
      "Iteration number  16  Cost :  112.653441562\n",
      "Iteration number  17  Cost :  112.6534542\n",
      "Iteration number  18  Cost :  112.653449529\n",
      "Iteration number  19  Cost :  112.653436113\n",
      "Iteration number  20  Cost :  112.6534183\n",
      "Iteration number  21  Cost :  112.653398286\n",
      "Iteration number  22  Cost :  112.653377178\n",
      "Iteration number  23  Cost :  112.653355534\n",
      "Iteration number  24  Cost :  112.653333634\n",
      "Iteration number  25  Cost :  112.65331162\n",
      "Iteration number  26  Cost :  112.653289562\n",
      "Iteration number  27  Cost :  112.653267496\n",
      "Iteration number  28  Cost :  112.65324544\n",
      "Iteration number  29  Cost :  112.653223404\n",
      "Iteration number  30  Cost :  112.653201392\n",
      "Iteration number  31  Cost :  112.653179405\n",
      "Iteration number  32  Cost :  112.653157446\n",
      "Iteration number  33  Cost :  112.653135514\n",
      "Iteration number  34  Cost :  112.653113611\n",
      "Iteration number  35  Cost :  112.653091735\n",
      "Iteration number  36  Cost :  112.653069889\n",
      "Iteration number  37  Cost :  112.65304807\n",
      "Iteration number  38  Cost :  112.65302628\n",
      "Iteration number  39  Cost :  112.653004518\n",
      "Iteration number  40  Cost :  112.652982784\n",
      "Iteration number  41  Cost :  112.652961079\n",
      "Iteration number  42  Cost :  112.652939403\n",
      "Iteration number  43  Cost :  112.652917754\n",
      "Iteration number  44  Cost :  112.652896134\n",
      "Iteration number  45  Cost :  112.652874543\n",
      "Iteration number  46  Cost :  112.65285298\n",
      "Iteration number  47  Cost :  112.652831445\n",
      "Iteration number  48  Cost :  112.652809939\n",
      "Iteration number  49  Cost :  112.652788461\n",
      "Iteration number  50  Cost :  112.652767011\n",
      "Iteration number  51  Cost :  112.65274559\n",
      "Iteration number  52  Cost :  112.652724197\n",
      "Iteration number  53  Cost :  112.652702832\n",
      "Iteration number  54  Cost :  112.652681496\n",
      "Iteration number  55  Cost :  112.652660189\n",
      "Iteration number  56  Cost :  112.652638909\n",
      "Iteration number  57  Cost :  112.652617658\n",
      "Iteration number  58  Cost :  112.652596436\n",
      "Iteration number  59  Cost :  112.652575242\n",
      "Iteration number  60  Cost :  112.652554076\n",
      "Iteration number  61  Cost :  112.652532939\n",
      "Iteration number  62  Cost :  112.65251183\n",
      "Iteration number  63  Cost :  112.652490749\n",
      "Iteration number  64  Cost :  112.652469697\n",
      "Iteration number  65  Cost :  112.652448673\n",
      "Iteration number  66  Cost :  112.652427678\n",
      "Iteration number  67  Cost :  112.652406711\n",
      "Iteration number  68  Cost :  112.652385773\n",
      "Iteration number  69  Cost :  112.652364863\n",
      "Iteration number  70  Cost :  112.652343981\n",
      "Iteration number  71  Cost :  112.652323127\n",
      "Iteration number  72  Cost :  112.652302303\n",
      "Iteration number  73  Cost :  112.652281506\n",
      "Iteration number  74  Cost :  112.652260738\n",
      "Iteration number  75  Cost :  112.652239998\n",
      "Iteration number  76  Cost :  112.652219287\n",
      "Iteration number  77  Cost :  112.652198604\n",
      "Iteration number  78  Cost :  112.652177949\n",
      "Iteration number  79  Cost :  112.652157323\n",
      "Iteration number  80  Cost :  112.652136726\n",
      "Iteration number  81  Cost :  112.652116156\n",
      "Iteration number  82  Cost :  112.652095615\n",
      "Iteration number  83  Cost :  112.652075103\n",
      "Iteration number  84  Cost :  112.652054619\n",
      "Iteration number  85  Cost :  112.652034163\n",
      "Iteration number  86  Cost :  112.652013736\n",
      "Iteration number  87  Cost :  112.651993337\n",
      "Iteration number  88  Cost :  112.651972967\n",
      "Iteration number  89  Cost :  112.651952625\n",
      "Iteration number  90  Cost :  112.651932311\n",
      "Iteration number  91  Cost :  112.651912026\n",
      "Iteration number  92  Cost :  112.651891769\n",
      "Iteration number  93  Cost :  112.651871541\n",
      "Iteration number  94  Cost :  112.651851341\n",
      "Iteration number  95  Cost :  112.651831169\n",
      "Iteration number  96  Cost :  112.651811026\n",
      "Iteration number  97  Cost :  112.651790912\n",
      "Iteration number  98  Cost :  112.651770825\n",
      "Iteration number  99  Cost :  112.651750767\n",
      "M,C  1.48017817726 0.0351495456675\n"
     ]
    }
   ],
   "source": [
    "run()"
   ]
  },
  {
   "cell_type": "markdown",
   "metadata": {},
   "source": [
    "We can see that cost become almost constant after 6-7 iteration."
   ]
  }
 ],
 "metadata": {
  "kernelspec": {
   "display_name": "Python 3",
   "language": "python",
   "name": "python3"
  },
  "language_info": {
   "codemirror_mode": {
    "name": "ipython",
    "version": 3
   },
   "file_extension": ".py",
   "mimetype": "text/x-python",
   "name": "python",
   "nbconvert_exporter": "python",
   "pygments_lexer": "ipython3",
   "version": "3.6.1"
  }
 },
 "nbformat": 4,
 "nbformat_minor": 2
}
