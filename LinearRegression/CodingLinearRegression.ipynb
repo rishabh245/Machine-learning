{
 "cells": [
  {
   "cell_type": "markdown",
   "metadata": {},
   "source": [
    "# Coding Linear Regression for 1 input feature"
   ]
  },
  {
   "cell_type": "code",
   "execution_count": 1,
   "metadata": {
    "collapsed": true
   },
   "outputs": [],
   "source": [
    "import numpy as np"
   ]
  },
  {
   "cell_type": "code",
   "execution_count": 3,
   "metadata": {},
   "outputs": [],
   "source": [
    "data = np.loadtxt('data.csv' , delimiter=',')"
   ]
  },
  {
   "cell_type": "code",
   "execution_count": 4,
   "metadata": {},
   "outputs": [
    {
     "data": {
      "text/plain": [
       "(100, 2)"
      ]
     },
     "execution_count": 4,
     "metadata": {},
     "output_type": "execute_result"
    }
   ],
   "source": [
    "data.shape"
   ]
  },
  {
   "cell_type": "code",
   "execution_count": 5,
   "metadata": {
    "collapsed": true
   },
   "outputs": [],
   "source": [
    "x = data[:,0]\n",
    "y = data[:,1]"
   ]
  },
  {
   "cell_type": "code",
   "execution_count": 6,
   "metadata": {
    "collapsed": true
   },
   "outputs": [],
   "source": [
    "from sklearn import model_selection\n",
    "x_train,x_test,y_train,y_test = model_selection.train_test_split(x,y,test_size=0.3)"
   ]
  },
  {
   "cell_type": "code",
   "execution_count": 13,
   "metadata": {
    "collapsed": true
   },
   "outputs": [],
   "source": [
    "def fit(x_train , y_tain):\n",
    "    #This functions return value of m(slope) and c(intercept)\n",
    "    num = (x_train * y_train).mean() - (x_train.mean() * y_train.mean())\n",
    "    den = (x_train**2).mean() - x_train.mean()**2\n",
    "    m = num/den\n",
    "    c = y_train.mean() - m * x_train.mean()\n",
    "    return m,c\n",
    "\n",
    "def predict(x,m,c):\n",
    "    return m * x + c\n",
    "\n",
    "def score(y_true,y_pred):\n",
    "    u = ((y_true - y_pred) ** 2).sum()\n",
    "    v = ((y_true - y_true.mean()) ** 2).sum()\n",
    "    return 1-u/v"
   ]
  },
  {
   "cell_type": "code",
   "execution_count": 14,
   "metadata": {},
   "outputs": [
    {
     "name": "stdout",
     "output_type": "stream",
     "text": [
      "Training score :  0.680348336584\n",
      "Testing score :  0.334959945958\n",
      "M , C  1.46917058702 1.28531063731\n"
     ]
    }
   ],
   "source": [
    "m,c = fit(x_train,y_train)\n",
    "#Train score\n",
    "y_train_pred = predict(x_train,m,c)\n",
    "print(\"Training score : \",score(y_train , y_train_pred))\n",
    "#Test score\n",
    "y_test_pred = predict(x_test,m,c)\n",
    "print(\"Testing score : \",score(y_test , y_test_pred))\n",
    "print(\"M , C \" , m,c)"
   ]
  },
  {
   "cell_type": "markdown",
   "metadata": {},
   "source": [
    "## Using sklearn Linear Regression"
   ]
  },
  {
   "cell_type": "code",
   "execution_count": 15,
   "metadata": {
    "collapsed": true
   },
   "outputs": [],
   "source": [
    "from sklearn.linear_model import LinearRegression"
   ]
  },
  {
   "cell_type": "code",
   "execution_count": 23,
   "metadata": {
    "collapsed": true
   },
   "outputs": [],
   "source": [
    "x_train = x_train.reshape(-1,1)\n",
    "x_test = x_test.reshape(-1,1)"
   ]
  },
  {
   "cell_type": "code",
   "execution_count": 24,
   "metadata": {},
   "outputs": [
    {
     "name": "stdout",
     "output_type": "stream",
     "text": [
      "Training score :  0.680348336584\n",
      "Testing score :  0.334959945958\n",
      "M , C  [ 1.46917059] 1.28531063731\n"
     ]
    }
   ],
   "source": [
    "alg = LinearRegression()\n",
    "alg.fit(x_train,y_train)\n",
    "#Training score\n",
    "print(\"Training score : \", alg.score(x_train , y_train))\n",
    "#Test score\n",
    "y_test_pred = predict(x_test,m,c)\n",
    "print(\"Testing score : \", alg.score(x_test , y_test))\n",
    "print(\"M , C \" , alg.coef_ , alg.intercept_)"
   ]
  },
  {
   "cell_type": "markdown",
   "metadata": {},
   "source": [
    "Hence , we concluded that sklearn Linear Regression is using the same method"
   ]
  }
 ],
 "metadata": {
  "kernelspec": {
   "display_name": "Python 3",
   "language": "python",
   "name": "python3"
  },
  "language_info": {
   "codemirror_mode": {
    "name": "ipython",
    "version": 3
   },
   "file_extension": ".py",
   "mimetype": "text/x-python",
   "name": "python",
   "nbconvert_exporter": "python",
   "pygments_lexer": "ipython3",
   "version": "3.6.1"
  }
 },
 "nbformat": 4,
 "nbformat_minor": 2
}
