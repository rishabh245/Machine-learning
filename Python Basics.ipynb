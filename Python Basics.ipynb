{
 "cells": [
  {
   "cell_type": "code",
   "execution_count": 1,
   "metadata": {},
   "outputs": [
    {
     "name": "stdout",
     "output_type": "stream",
     "text": [
      "12\n",
      "5\n",
      "<class 'int'>\n",
      "2.4\n",
      "2\n",
      "248832\n",
      "60\n"
     ]
    }
   ],
   "source": [
    "a = 12\n",
    "b = 5\n",
    "print(a)\n",
    "print(b)\n",
    "print(type(a))\n",
    "print(a/b)\n",
    "print(a//b)\n",
    "print(a**b)\n",
    "print(a*b)"
   ]
  },
  {
   "cell_type": "code",
   "execution_count": 6,
   "metadata": {},
   "outputs": [
    {
     "name": "stdout",
     "output_type": "stream",
     "text": [
      "this is a string\n",
      "<class 'str'>\n",
      "<class 'str'>\n",
      "t\n",
      "new string\n",
      "abcdef\n"
     ]
    }
   ],
   "source": [
    "a = \"this is a string\"\n",
    "print(a)\n",
    "print(type(a))\n",
    "print(type('a')) #No characters in python\n",
    "print(a[0])\n",
    "#a[0] = 's' INVALID strings in python are immutable\n",
    "a = 'new string'\n",
    "print(a)\n",
    "str1 = 'abc'\n",
    "str2 = 'def'\n",
    "print(str1+str2)"
   ]
  },
  {
   "cell_type": "code",
   "execution_count": 12,
   "metadata": {},
   "outputs": [
    {
     "name": "stdout",
     "output_type": "stream",
     "text": [
      "ABC\n",
      "abc\n",
      "Abc\n",
      "Abc gh  k\n",
      "False\n"
     ]
    }
   ],
   "source": [
    "str = 'Abc'\n",
    "print(str.upper())\n",
    "print(str.lower())\n",
    "print(str)\n",
    "str = '   Abc gh  k  '\n",
    "print(str.strip())\n",
    "print(str.isalpha()) #contains only alphabets"
   ]
  },
  {
   "cell_type": "code",
   "execution_count": 13,
   "metadata": {},
   "outputs": [
    {
     "name": "stdout",
     "output_type": "stream",
     "text": [
      "123\n",
      "<class 'str'>\n"
     ]
    }
   ],
   "source": [
    "#Taking input in python\n",
    "a = input()\n",
    "print(type(a))\n"
   ]
  },
  {
   "cell_type": "code",
   "execution_count": 14,
   "metadata": {},
   "outputs": [
    {
     "name": "stdout",
     "output_type": "stream",
     "text": [
      "123\n",
      "<class 'int'>\n"
     ]
    }
   ],
   "source": [
    "a = int(input())\n",
    "print(type(a))\n"
   ]
  },
  {
   "cell_type": "code",
   "execution_count": 16,
   "metadata": {},
   "outputs": [
    {
     "name": "stdout",
     "output_type": "stream",
     "text": [
      "123.0\n",
      "<class 'float'>\n"
     ]
    }
   ],
   "source": [
    "a = float(input())\n",
    "print(type(a))"
   ]
  },
  {
   "cell_type": "code",
   "execution_count": 23,
   "metadata": {},
   "outputs": [
    {
     "name": "stdout",
     "output_type": "stream",
     "text": [
      "1000 2000 3000\n",
      "1000\n",
      "2000 3000\n"
     ]
    }
   ],
   "source": [
    "a,b,c = 1000, 2000, 3000\n",
    "print(a , b , c )\n",
    "print(a)\n",
    "print(b , end = \" \")\n",
    "print(c)"
   ]
  },
  {
   "cell_type": "code",
   "execution_count": 26,
   "metadata": {},
   "outputs": [
    {
     "name": "stdout",
     "output_type": "stream",
     "text": [
      "a\n",
      "a\n"
     ]
    }
   ],
   "source": [
    "#negative indexing\n",
    "str = 'abcd'\n",
    "print(str[0])\n",
    "print(str[-4])"
   ]
  },
  {
   "cell_type": "code",
   "execution_count": 32,
   "metadata": {},
   "outputs": [
    {
     "name": "stdout",
     "output_type": "stream",
     "text": [
      "bc\n",
      "de\n",
      "cdef\n",
      "abcd\n",
      "abcdef\n"
     ]
    }
   ],
   "source": [
    "#slicing\n",
    "str = 'abcdef'\n",
    "print(str[1:3])\n",
    "print(str[-3:-1])\n",
    "print(str[2:])\n",
    "print(str[:4])\n",
    "print(str[:])"
   ]
  },
  {
   "cell_type": "code",
   "execution_count": 34,
   "metadata": {},
   "outputs": [
    {
     "name": "stdout",
     "output_type": "stream",
     "text": [
      "<class 'tuple'>\n",
      "1\n",
      "(1, 2, 3)\n"
     ]
    }
   ],
   "source": [
    "#tuple\n",
    "t = (1,2,3,4)\n",
    "print(type(t))\n",
    "print(t[0])\n",
    "#immutable\n",
    "# t[0] = 4 INVALID\n",
    "print(t[0:3])"
   ]
  },
  {
   "cell_type": "code",
   "execution_count": 35,
   "metadata": {},
   "outputs": [
    {
     "name": "stdout",
     "output_type": "stream",
     "text": [
      "(1, 'abc', 2, 'def')\n",
      "(1, 'abc', 1, 'abc')\n",
      "True\n",
      "False\n"
     ]
    }
   ],
   "source": [
    "t = (1,\"abc\")\n",
    "k = (2,\"def\")\n",
    "print(t+k)\n",
    "#t*k INVALID\n",
    "print(t*2)\n",
    "print(1 in t)\n",
    "print(1 in k)"
   ]
  }
 ],
 "metadata": {
  "kernelspec": {
   "display_name": "Python 3",
   "language": "python",
   "name": "python3"
  },
  "language_info": {
   "codemirror_mode": {
    "name": "ipython",
    "version": 3
   },
   "file_extension": ".py",
   "mimetype": "text/x-python",
   "name": "python",
   "nbconvert_exporter": "python",
   "pygments_lexer": "ipython3",
   "version": "3.6.1"
  }
 },
 "nbformat": 4,
 "nbformat_minor": 2
}
